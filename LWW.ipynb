{
  "nbformat": 4,
  "nbformat_minor": 0,
  "metadata": {
    "colab": {
      "name": "LWW.ipynb",
      "provenance": []
    },
    "kernelspec": {
      "name": "python3",
      "display_name": "Python 3"
    },
    "language_info": {
      "name": "python"
    }
  },
  "cells": [
    {
      "cell_type": "code",
      "metadata": {
        "id": "MToYuNEkOF1O"
      },
      "source": [
        "import time\n",
        "from threading import RLock\n",
        "import logging"
      ],
      "execution_count": 6,
      "outputs": []
    },
    {
      "cell_type": "code",
      "metadata": {
        "id": "b0x0z_RQOS31"
      },
      "source": [
        "class Lww:\n",
        "    '''\n",
        "    LWW class for CRDTs\n",
        "    '''\n",
        "    def __init__(self):\n",
        "        self.add_set = {}\n",
        "        self.remove_set = {}\n",
        "        self.add_lock = RLock()\n",
        "        self.remove_lock = RLock()"
      ],
      "execution_count": 7,
      "outputs": []
    },
    {
      "cell_type": "code",
      "metadata": {
        "id": "9iJKlbMRTYzu"
      },
      "source": [
        "def add(self, element):\n",
        "        '''\n",
        "        This method adds the element into the add_set dictionary\n",
        "        of the Lww, where key is the element and value is the current unix timestamp\n",
        "        :param element: Element to be add into LWW\n",
        "        :return: None\n",
        "        '''\n",
        "\n",
        "        with self.add_lock:\n",
        "            try:\n",
        "                if self.add_set.get(element, 0) < time.time():\n",
        "                    self.add_set[element] = time.time()\n",
        "            except TypeError as error:\n",
        "                logging.error(str(error))"
      ],
      "execution_count": 8,
      "outputs": []
    },
    {
      "cell_type": "code",
      "metadata": {
        "id": "u2k3_zZtTeZU"
      },
      "source": [
        "def lookup(self, element):\n",
        "        '''\n",
        "        This method check whether a given element is in LWW\n",
        "        :param element: Element whose presence is the checked in LWW\n",
        "        :return: Boolean\n",
        "        '''\n",
        "\n",
        "        with self.add_lock, self.remove_lock:\n",
        "            if element not in self.add_set:\n",
        "                # Element not in add_set\n",
        "                return False\n",
        "\n",
        "            if element not in self.remove_set:\n",
        "                # Element in add_set and not in remove_set\n",
        "                return True\n",
        "\n",
        "            if self.remove_set[element] < self.add_set[element]:\n",
        "                # Element in both add_set and remove_set, but addition is after removal\n",
        "                return True\n",
        "\n",
        "            # Element in both add_set and remove_set, but addition is before removal\n",
        "            return False"
      ],
      "execution_count": 9,
      "outputs": []
    },
    {
      "cell_type": "code",
      "metadata": {
        "id": "UdbcU3OZTjsr"
      },
      "source": [
        "def remove(self, element):\n",
        "        '''\n",
        "        This method removes the element from the LWW\n",
        "        :param element: Element to be removed\n",
        "        :return: None\n",
        "        '''\n",
        "\n",
        "        with self.remove_lock:\n",
        "            try:\n",
        "                if self.remove_set.get(element, 0) < time.time():\n",
        "                    self.remove_set[element] = time.time()\n",
        "            except TypeError as error:\n",
        "                logging.error(str(error))"
      ],
      "execution_count": 11,
      "outputs": []
    },
    {
      "cell_type": "code",
      "metadata": {
        "id": "3hbSLglPTnBC"
      },
      "source": [
        "def compare(self, other):\n",
        "        '''\n",
        "        This method checks whether the LWW is subset of the given LWW\n",
        "        :param other: LWW object to be compared with\n",
        "        :return: Boolean\n",
        "        '''\n",
        "\n",
        "        with self.add_lock, self.remove_lock, other.add_lock, other.remove_lock:\n",
        "\n",
        "            # Check add_set is subset of other.add_set\n",
        "            add_subset = set(self.add_set.keys()).issubset(other.add_set.keys())\n",
        "\n",
        "            # Check remove_set is subset of other.remove_set\n",
        "            remove_subset = set(self.remove_set.keys()).issubset(other.remove_set.keys())\n",
        "\n",
        "\n",
        "        return add_subset and remove_subset"
      ],
      "execution_count": 12,
      "outputs": []
    },
    {
      "cell_type": "code",
      "metadata": {
        "id": "XgfDrhd8Tusv"
      },
      "source": [
        "def merge(self, other):\n",
        "        '''\n",
        "        This method merge the LWW with the given LWW and returns a new LWW\n",
        "        without affecting the original LWW\n",
        "        :param other:\n",
        "        :return: Lww\n",
        "        '''\n",
        "\n",
        "        lww = Lww()\n",
        "\n",
        "        with self.add_lock, self.remove_lock, other.add_lock, other.remove_lock:\n",
        "\n",
        "            # Merge add_set\n",
        "            lww.add_set = {**self.add_set, **other.add_set}\n",
        "\n",
        "            # Merge remove_set\n",
        "            lww.remove_set = {**self.remove_set, **other.remove_set}\n",
        "\n",
        "            # Update lww with latest timestamp in add_set\n",
        "            for element, timestamp in self.add_set.items():\n",
        "                lww.add_set[element] = max(lww.add_set[element], timestamp)\n",
        "\n",
        "            # Update lww with latest timestamp in remove_set\n",
        "            for element, timestamp in self.remove_set.items():\n",
        "                lww.remove_set[element] = max(lww.remove_set[element], timestamp)\n",
        "\n",
        "\n",
        "        return lww"
      ],
      "execution_count": 13,
      "outputs": []
    },
    {
      "cell_type": "code",
      "metadata": {
        "id": "KzmZzHL-UTrn"
      },
      "source": [
        "def test_add():\n",
        "    '''\n",
        "    This functions test the successful addition of the element\n",
        "    into the LWW\n",
        "    :return: None\n",
        "    '''\n",
        "\n",
        "    lww = Lww()\n",
        "\n",
        "    lww.add(1)\n",
        "    lww.add(\"test_element\")\n",
        "\n",
        "    assert lww.lookup(1)\n",
        "    assert lww.lookup(\"test_element\")\n",
        "    assert not lww.lookup(\"test\")"
      ],
      "execution_count": 18,
      "outputs": []
    },
    {
      "cell_type": "code",
      "metadata": {
        "id": "UiHq_j7uU_hy"
      },
      "source": [
        "def test_remove():\n",
        "    '''\n",
        "    This function test the successful removal of the element\n",
        "    from the LWW\n",
        "    :return: None\n",
        "    '''\n",
        "\n",
        "    lww = Lww()\n",
        "\n",
        "    lww.remove(1)\n",
        "    assert not lww.lookup(1)\n",
        "\n",
        "    lww.add(1)\n",
        "    assert lww.lookup(1)"
      ],
      "execution_count": 19,
      "outputs": []
    },
    {
      "cell_type": "code",
      "metadata": {
        "id": "9qlEB5Q7VnxC"
      },
      "source": [
        "def test_compare():\n",
        "    '''\n",
        "    This function test the compare method of Lww\n",
        "    :return: None\n",
        "    '''\n",
        "\n",
        "    lww1 = Lww()\n",
        "    lww2 = Lww()\n",
        "\n",
        "    lww1.add(1)\n",
        "    lww1.add(2)\n",
        "\n",
        "    lww2.add(1)\n",
        "    lww2.add(2)\n",
        "    lww2.add(3)\n",
        "\n",
        "    lww1.remove(1)\n",
        "    lww1.remove(2)\n",
        "\n",
        "    lww2.remove(1)\n",
        "    lww2.remove(2)\n",
        "    lww2.remove(3)\n",
        "\n",
        "    assert lww1.compare(lww2)\n",
        "\n",
        "    assert not lww2.compare(lww1)"
      ],
      "execution_count": 20,
      "outputs": []
    },
    {
      "cell_type": "code",
      "metadata": {
        "id": "y180TJz6Vq42"
      },
      "source": [
        "def test_merge():\n",
        "    '''\n",
        "    This function test the merge method of Lww\n",
        "    :return: None\n",
        "    '''\n",
        "\n",
        "    lww1 = Lww()\n",
        "    lww2 = Lww()\n",
        "\n",
        "    lww1.add(1)\n",
        "    lww1.add(2)\n",
        "    lww1.remove(1)\n",
        "\n",
        "    lww2.add(1)\n",
        "    lww2.add(3)\n",
        "\n",
        "    lww1.remove(3)\n",
        "\n",
        "    lww2.remove(1)\n",
        "\n",
        "    lww = lww1.merge(lww2)\n",
        "\n",
        "    assert {1, 2, 3}.issubset(lww.add_set.keys())\n",
        "    assert {1, 3}.issubset(lww.remove_set.keys())\n",
        "    assert lww.add_set[1] == lww2.add_set[1]\n",
        "    assert lww.add_set[1] > lww1.add_set[1]\n",
        "    assert lww.add_set[3] < lww1.remove_set[3]\n",
        "    assert lww.remove_set[1] == lww2.remove_set[1]"
      ],
      "execution_count": 21,
      "outputs": []
    },
    {
      "cell_type": "code",
      "metadata": {
        "id": "8oL7ecmLVuSV"
      },
      "source": [
        "def test_add_exception(caplog):\n",
        "    '''\n",
        "    This function test the exception handling of the add\n",
        "    :param caplog: pytest fixture\n",
        "    :return: None\n",
        "    '''\n",
        "\n",
        "    lww = Lww()\n",
        "    lww.add([1, 2, 3])\n",
        "\n",
        "    assert \"unhashable type: 'list'\" in caplog.text"
      ],
      "execution_count": 22,
      "outputs": []
    },
    {
      "cell_type": "code",
      "metadata": {
        "id": "_90o5JhvVwk6"
      },
      "source": [
        "def test_remove_exception(caplog):\n",
        "    '''\n",
        "    This function test the exception handling of the add\n",
        "    :param caplog: pytest fixture\n",
        "    :return: None\n",
        "    '''\n",
        "\n",
        "    lww = Lww()\n",
        "    lww.remove({})\n",
        "\n",
        "    assert \"unhashable type: 'dict'\" in caplog.text"
      ],
      "execution_count": 23,
      "outputs": []
    },
    {
      "cell_type": "code",
      "metadata": {
        "id": "xqZS4vA4VynD"
      },
      "source": [
        "def test_key_internal():\n",
        "    '''\n",
        "    This function validates the state of the elements in Lww\n",
        "    :return: None\n",
        "    '''\n",
        "    lww = Lww()\n",
        "\n",
        "    lww.add(1)\n",
        "    lww.add(2)\n",
        "    lww.add(3)\n",
        "    lww.remove(4)\n",
        "    lww.remove(2)\n",
        "\n",
        "    assert {1, 2, 3}.issubset(lww.add_set.keys())\n",
        "    assert {2, 4}.issubset(lww.remove_set.keys())\n",
        "\n",
        "    assert 4 not in lww.add_set.keys()\n",
        "    assert 1 not in lww.remove_set.keys()\n",
        "    assert 3 not in lww.remove_set.keys()"
      ],
      "execution_count": 24,
      "outputs": []
    },
    {
      "cell_type": "code",
      "metadata": {
        "id": "Z4XPleQ3V2Qw"
      },
      "source": [
        "def test_value_internal():\n",
        "    '''\n",
        "    This function validates internal element timestamps\n",
        "    :return: None\n",
        "    '''\n",
        "    lww = Lww()\n",
        "\n",
        "    lww.add(1)\n",
        "    lww.add(2)\n",
        "    lww.add(3)\n",
        "    lww.remove(4)\n",
        "    lww.remove(2)\n",
        "\n",
        "    assert lww.remove_set[2] > lww.add_set[2]\n",
        "    assert lww.add_set[3] > lww.add_set[2]\n",
        "    assert lww.remove_set[4] > lww.add_set[3]\n",
        "    assert lww.remove_set[2] > lww.remove_set[4]"
      ],
      "execution_count": 25,
      "outputs": []
    },
    {
      "cell_type": "code",
      "metadata": {
        "id": "dVJEkPIlV4Yl"
      },
      "source": [
        "def test_re_add():\n",
        "    '''\n",
        "    This function validates repeated addtition of same element\n",
        "    :return: None\n",
        "    '''\n",
        "    lww = Lww()\n",
        "\n",
        "    lww.add(1)\n",
        "    lww.remove(1)\n",
        "    lww.add(1)\n",
        "\n",
        "    assert lww.lookup(1)"
      ],
      "execution_count": 26,
      "outputs": []
    },
    {
      "cell_type": "code",
      "metadata": {
        "id": "Mvv7mmSoV5_m"
      },
      "source": [
        "def test_re_remove():\n",
        "    '''\n",
        "    This function validates repeated removal of same element\n",
        "    :return: None\n",
        "    '''\n",
        "    lww = Lww()\n",
        "\n",
        "    lww.add(1)\n",
        "    lww.remove(1)\n",
        "    lww.add(1)\n",
        "    lww.remove(1)\n",
        "\n",
        "    assert not lww.lookup(1)"
      ],
      "execution_count": 27,
      "outputs": []
    },
    {
      "cell_type": "code",
      "metadata": {
        "id": "l2qT7wsMV7i5"
      },
      "source": [
        "def test_remove_add():\n",
        "    '''\n",
        "    This function validates remove element followed by addition\n",
        "    :return: None\n",
        "    '''\n",
        "    lww = Lww()\n",
        "\n",
        "    lww.remove(1)\n",
        "    lww.add(1)\n",
        "\n",
        "    assert lww.lookup(1)\n"
      ],
      "execution_count": 28,
      "outputs": []
    },
    {
      "cell_type": "code",
      "metadata": {
        "id": "g6Y45vWcV-CQ"
      },
      "source": [
        "def test_rep_remove_add():\n",
        "    '''\n",
        "    This function validates repeated remove of element\n",
        "    :return: None\n",
        "    '''\n",
        "    lww = Lww()\n",
        "\n",
        "    lww.remove(1)\n",
        "    lww.add(1)\n",
        "    lww.remove(1)\n",
        "\n",
        "    assert not lww.lookup(1)\n"
      ],
      "execution_count": 29,
      "outputs": []
    },
    {
      "cell_type": "code",
      "metadata": {
        "id": "RHBCv5dfV_nh"
      },
      "source": [
        "def test_empty_lookup():\n",
        "    '''\n",
        "    This function validates empty lookup\n",
        "    :return: None\n",
        "    '''\n",
        "    lww = Lww()\n",
        "\n",
        "    assert not lww.lookup(1)"
      ],
      "execution_count": 30,
      "outputs": []
    },
    {
      "cell_type": "code",
      "metadata": {
        "id": "hC4SHp4ZWA-Z"
      },
      "source": [
        ""
      ],
      "execution_count": null,
      "outputs": []
    }
  ]
}